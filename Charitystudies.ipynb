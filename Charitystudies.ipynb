{
 "cells": [
  {
   "cell_type": "markdown",
   "metadata": {},
   "source": [
    "\n",
    "## To begin, go to \"Cell\" and click \"Run All.\"\n",
    "\n",
    "\n",
    "\n",
    "\n",
    "<br>\n",
    "<br>\n",
    "<br>\n",
    "<br>\n",
    "<br>\n",
    "<br>\n",
    "<br>\n",
    "<br>\n",
    "<br>\n",
    "<br>\n",
    "<br>\n",
    "<br>\n",
    "<br>\n",
    "<br>\n",
    "<br>\n",
    "<br>\n",
    "<br>\n",
    "<br>\n",
    "<br>\n",
    "<br>\n",
    "<br>\n",
    "<br>\n",
    "<br>\n",
    "<br>\n",
    "<br>\n",
    "<br>\n",
    "<br>\n",
    "<br>\n",
    "<br>\n",
    "<br>\n",
    "<br>\n",
    "<br>\n",
    "<br>\n",
    "<br>\n",
    "<br>\n",
    "<br>\n",
    "<br>\n",
    "<br>\n",
    "<br>\n",
    "<br>\n",
    "<br>\n",
    "<br>\n",
    "<br>\n",
    "<br>\n",
    "<br>\n",
    "<br>\n",
    "<br>\n",
    "<br>\n",
    "<br>\n",
    "<br>\n",
    "<br>\n",
    "<br>\n",
    "<br>\n",
    "<br>\n",
    "<br>\n"
   ]
  },
  {
   "cell_type": "code",
   "execution_count": 1,
   "metadata": {
    "scrolled": true
   },
   "outputs": [
    {
     "data": {
      "text/html": [
       "<script>\n",
       "code_show=true; \n",
       "function code_toggle() {\n",
       " if (code_show){\n",
       " $('div.input').hide();\n",
       " } else {\n",
       " $('div.input').show();\n",
       " }\n",
       " code_show = !code_show\n",
       "} \n",
       "$( document ).ready(code_toggle);\n",
       "</script>\n",
       "<form action=\"javascript:code_toggle()\"><input type=\"submit\" value=\"Click here to toggle on/off the raw code.\"></form>"
      ],
      "text/plain": [
       "<IPython.core.display.HTML object>"
      ]
     },
     "execution_count": 1,
     "metadata": {},
     "output_type": "execute_result"
    }
   ],
   "source": [
    "from IPython.display import HTML\n",
    "\n",
    "HTML('''<script>\n",
    "code_show=true; \n",
    "function code_toggle() {\n",
    " if (code_show){\n",
    " $('div.input').hide();\n",
    " } else {\n",
    " $('div.input').show();\n",
    " }\n",
    " code_show = !code_show\n",
    "} \n",
    "$( document ).ready(code_toggle);\n",
    "</script>\n",
    "<form action=\"javascript:code_toggle()\"><input type=\"submit\" value=\"Click here to toggle on/off the raw code.\"></form>''')"
   ]
  },
  {
   "cell_type": "markdown",
   "metadata": {},
   "source": [
    "<br>\n",
    "<br>\n",
    "<br>\n",
    "<br>\n",
    "<br>\n",
    "<br>\n",
    "<br>\n",
    "<br>\n",
    "<br>\n",
    "<br>\n",
    "<br>\n",
    "<br>\n",
    "<br>\n",
    "<br>\n",
    "<br>\n",
    "<br>\n",
    "<br>\n",
    "<br>\n",
    "<br>\n",
    "<br>\n",
    "<br>\n",
    "<br>\n",
    "<br>\n",
    "<br>\n",
    "<br>\n",
    "<br>\n",
    "<br>\n",
    "<br>"
   ]
  },
  {
   "cell_type": "code",
   "execution_count": 2,
   "metadata": {},
   "outputs": [
    {
     "data": {
      "text/html": [
       "<style>.prompt{width: 0px; min-width: 0px; visibility: collapse}</style>"
      ],
      "text/plain": [
       "<IPython.core.display.HTML object>"
      ]
     },
     "metadata": {},
     "output_type": "display_data"
    }
   ],
   "source": [
    "\n",
    "# Hides in/out\n",
    "from IPython.core.display import display,HTML\n",
    "display(HTML('<style>.prompt{width: 0px; min-width: 0px; visibility: collapse}</style>'))"
   ]
  },
  {
   "cell_type": "code",
   "execution_count": 3,
   "metadata": {},
   "outputs": [],
   "source": [
    "from IPython.display import Image"
   ]
  },
  {
   "cell_type": "code",
   "execution_count": 4,
   "metadata": {},
   "outputs": [
    {
     "name": "stdout",
     "output_type": "stream",
     "text": [
      "\n",
      "You are going to take place in a hypothetical “5 year” token simulation. \n",
      "Each “year” you will receive a salary of 100 tokens. At the end of each “year” you will have three options:\n",
      "1) You may donate any amount of your remaining tokens to a charity\n",
      "2) You may spend any amount of your remaining tokens on virtual raffles which later will give you a chance to win a $20 gift card (1 token spent =1 virtual raffle) I will contact you if you win the gift card.\n",
      "3) You may save any amount of your remaining tokens for the next year\n",
      "\n",
      "\n",
      "If you ever do not want to spend or donate any tokens enter “0”\n"
     ]
    }
   ],
   "source": [
    "print(\"\"\"\n",
    "You are going to take place in a hypothetical “5 year” token simulation. \n",
    "Each “year” you will receive a salary of 100 tokens. At the end of each “year” you will have three options:\n",
    "1) You may donate any amount of your remaining tokens to a charity\n",
    "2) You may spend any amount of your remaining tokens on virtual raffles which later will give you a chance to win a $20 gift card (1 token spent =1 virtual raffle) I will contact you if you win the gift card.\n",
    "3) You may save any amount of your remaining tokens for the next year\n",
    "\n",
    "\n",
    "If you ever do not want to spend or donate any tokens enter “0”\"\"\")"
   ]
  },
  {
   "cell_type": "code",
   "execution_count": 5,
   "metadata": {},
   "outputs": [
    {
     "name": "stdout",
     "output_type": "stream",
     "text": [
      "\n",
      "Type anything in the box to continue.\n",
      "\n"
     ]
    }
   ],
   "source": [
    "print(\"\"\"\n",
    "Type anything in the box to continue.\n",
    "\"\"\")"
   ]
  },
  {
   "cell_type": "code",
   "execution_count": 6,
   "metadata": {},
   "outputs": [
    {
     "name": "stdout",
     "output_type": "stream",
     "text": [
      "12\n"
     ]
    }
   ],
   "source": [
    "starter_text = input()"
   ]
  },
  {
   "cell_type": "code",
   "execution_count": 7,
   "metadata": {},
   "outputs": [
    {
     "name": "stdout",
     "output_type": "stream",
     "text": [
      "At the end of the “fifth year” you have two options: \n",
      "1) You may donate any amount of your remaining tokens to a charity\n",
      "2) You may spend any amount of your remaining tokens on the chance to win a $20 gift card\n",
      "You may not save any tokens for after the fifth year because the simulation will be over. \n",
      "You must spend/donate all of your remaining tokens.\n",
      "\n"
     ]
    }
   ],
   "source": [
    "print(\"\"\"At the end of the “fifth year” you have two options: \n",
    "1) You may donate any amount of your remaining tokens to a charity\n",
    "2) You may spend any amount of your remaining tokens on the chance to win a $20 gift card\n",
    "You may not save any tokens for after the fifth year because the simulation will be over. \n",
    "You must spend/donate all of your remaining tokens.\n",
    "\"\"\")"
   ]
  },
  {
   "cell_type": "code",
   "execution_count": 8,
   "metadata": {},
   "outputs": [
    {
     "name": "stdout",
     "output_type": "stream",
     "text": [
      "\n",
      "Type anything in the box to continue.\n",
      "\n"
     ]
    }
   ],
   "source": [
    "print(\"\"\"\n",
    "Type anything in the box to continue.\n",
    "\"\"\")"
   ]
  },
  {
   "cell_type": "code",
   "execution_count": 9,
   "metadata": {},
   "outputs": [
    {
     "name": "stdout",
     "output_type": "stream",
     "text": [
      "12\n"
     ]
    }
   ],
   "source": [
    "starter_text = input()"
   ]
  },
  {
   "cell_type": "code",
   "execution_count": 10,
   "metadata": {},
   "outputs": [
    {
     "name": "stdout",
     "output_type": "stream",
     "text": [
      "\n",
      "The charities will focus on natural disasters, suicide prevention, driving safety, vaccinations, and environmental protection in that order.\n",
      "\n",
      "You are now beginning the simulation\n",
      "\n",
      "You have just completed year one. You have 100 tokens to spend, donate, or save.\n"
     ]
    }
   ],
   "source": [
    "print(\"\"\"\n",
    "The charities will focus on natural disasters, suicide prevention, driving safety, vaccinations, and environmental protection in that order.\n",
    "\n",
    "You are now beginning the simulation\n",
    "\n",
    "You have just completed year one. You have 100 tokens to spend, donate, or save.\"\"\")"
   ]
  },
  {
   "cell_type": "code",
   "execution_count": 11,
   "metadata": {},
   "outputs": [
    {
     "name": "stdout",
     "output_type": "stream",
     "text": [
      "\n",
      "Type anything in the box to continue.\n",
      "\n"
     ]
    }
   ],
   "source": [
    "print(\"\"\"\n",
    "Type anything in the box to continue.\n",
    "\"\"\")"
   ]
  },
  {
   "cell_type": "code",
   "execution_count": 12,
   "metadata": {},
   "outputs": [
    {
     "name": "stdout",
     "output_type": "stream",
     "text": [
      "12\n"
     ]
    }
   ],
   "source": [
    "starter_text = input()"
   ]
  },
  {
   "cell_type": "markdown",
   "metadata": {},
   "source": [
    "<br>\n",
    "<br>\n",
    "<br>\n",
    "<br>\n",
    "<br>\n",
    "<br>\n",
    "<br>\n",
    "<br>\n",
    "<br>\n",
    "<br>\n",
    "<br>\n",
    "<br>\n",
    "<br>\n",
    "<br>\n",
    "<br>\n",
    "<br>\n",
    "<br>\n",
    "<br>\n",
    "<br>\n",
    "<br>\n",
    "<br>\n",
    "<br>\n",
    "<br>\n",
    "<br>\n",
    "<br>\n",
    "<br>\n",
    "<br>"
   ]
  },
  {
   "cell_type": "code",
   "execution_count": 13,
   "metadata": {},
   "outputs": [
    {
     "data": {
      "text/html": [
       "<img src=\"http://blogs.ei.columbia.edu/wp-content/uploads/2017/11/hurricane-63005_1280-637x425.jpg\" width=\"400\" height=\"200\"/>"
      ],
      "text/plain": [
       "<IPython.core.display.Image object>"
      ]
     },
     "execution_count": 13,
     "metadata": {},
     "output_type": "execute_result"
    }
   ],
   "source": [
    "url1 = \"http://blogs.ei.columbia.edu/wp-content/uploads/2017/11/hurricane-63005_1280-637x425.jpg\"\n",
    "\n",
    "Image(url= url1, height = 200, width = 400)"
   ]
  },
  {
   "cell_type": "markdown",
   "metadata": {},
   "source": [
    "\n",
    "According to a study by Texas Tech University hurricanes cause 60 injuries per year and cause an average of 17 deaths annually. Hurricane Maria, Katrina and Harvey cost 90,108 and 125 billion dollars respectively. The storms made over 100,000 people lose power and electricity. Many families have had to relocate because of these disasters, causing kids to move away from their friends and change schools. The Hurricane Damage Prevention Center works to help families hurricane proof their homes, and provides free flood insurance for many who cannot afford it.\n"
   ]
  },
  {
   "cell_type": "code",
   "execution_count": 14,
   "metadata": {},
   "outputs": [
    {
     "name": "stdout",
     "output_type": "stream",
     "text": [
      "100 tokens\n"
     ]
    }
   ],
   "source": [
    "bank_account = 100\n",
    "print(\"%s tokens\" %bank_account)"
   ]
  },
  {
   "cell_type": "markdown",
   "metadata": {},
   "source": [
    "\n",
    "If you wish to donate tokens to the Hurricane Damage Prevention Center you may now do so"
   ]
  },
  {
   "cell_type": "code",
   "execution_count": 15,
   "metadata": {},
   "outputs": [
    {
     "name": "stdout",
     "output_type": "stream",
     "text": [
      "12\n",
      "88 tokens\n",
      "If you wish to spend tokens on virtual raffles for a chance to win a $20 gift card you may now do so\n",
      "12\n"
     ]
    }
   ],
   "source": [
    "donation_1 = input()\n",
    "while (not donation_1.isnumeric() or int(donation_1) > bank_account or int(donation_1) < 0):\n",
    "    if donation_1 == \"\":\n",
    "        print(\"\"\"Are you sure you do not want to donate any tokens this year? If so, please enter 0. \n",
    "              Otherwise, enter the amount you would like to donate.\"\"\") \n",
    "    elif not donation_1.isnumeric(): print(\"You must enter whole numeric values (ex: 10,20,30,40)\")\n",
    "    elif int(donation_1) > bank_account: print(\"\"\"You do not have enough total tokens to donate the amount you selected.\n",
    "                                             Please re-enter a different donation amount.\"\"\")\n",
    "    donation_1 = input()\n",
    "bank_account -= int(donation_1)\n",
    "print(\"%s tokens\" %bank_account)    \n",
    "print(\"If you wish to spend tokens on virtual raffles for a chance to win a $20 gift card you may now do so\")\n",
    "      \n",
    "\n",
    "gift_card_1 = input()\n",
    "while (not gift_card_1.isnumeric() or int(gift_card_1) > bank_account or int(gift_card_1) < 0):\n",
    "    if gift_card_1 == \"\":\n",
    "        print(\"Are you sure you do not want to spend any tokens this year? If so, please enter 0. Otherwise, enter the amount you would like to spend.\")\n",
    "    elif not gift_card_1.isnumeric(): print(\"You must enter whole numeric values (ex: 10,20,30,40)\")\n",
    "    elif int(gift_card_1) > bank_account: print(\"You do not have enough total tokens to spend the amount you selected. Please re-enter a different spending amount.\")\n",
    "    gift_card_1 = input()\n",
    "bank_account -= int(gift_card_1)  \n",
    "bank_account += 100"
   ]
  },
  {
   "cell_type": "code",
   "execution_count": 16,
   "metadata": {},
   "outputs": [
    {
     "name": "stdout",
     "output_type": "stream",
     "text": [
      "\n",
      "Your remaining tokens have been saved for year two. \n",
      "\n",
      "You have just completed year two. You have gained 100 tokens in addition to your saved tokens from year 1.\n",
      "You have 176 tokens to spend, donate, or save.\n",
      "\n",
      "Enter anything to continue\n",
      "\n",
      "12\n"
     ]
    }
   ],
   "source": [
    "print(\"\"\"\n",
    "Your remaining tokens have been saved for year two. \n",
    "\n",
    "You have just completed year two. You have gained 100 tokens in addition to your saved tokens from year 1.\n",
    "You have %s tokens to spend, donate, or save.\n",
    "\n",
    "Enter anything to continue\n",
    "\"\"\" % (bank_account))\n",
    "text = input()"
   ]
  },
  {
   "cell_type": "markdown",
   "metadata": {},
   "source": [
    "<br>\n",
    "<br>\n",
    "<br>\n",
    "<br>\n",
    "<br>\n",
    "<br>\n",
    "<br>\n",
    "<br>\n",
    "<br>\n",
    "<br>\n",
    "<br>\n",
    "<br>\n",
    "<br>\n",
    "<br>\n",
    "<br>\n",
    "<br>"
   ]
  },
  {
   "cell_type": "code",
   "execution_count": 17,
   "metadata": {},
   "outputs": [
    {
     "data": {
      "text/html": [
       "<img src=\"https://screening.mentalhealthamerica.net/sites/default/files/2018-03/7.png\" width=\"400\" height=\"200\"/>"
      ],
      "text/plain": [
       "<IPython.core.display.Image object>"
      ]
     },
     "execution_count": 17,
     "metadata": {},
     "output_type": "execute_result"
    }
   ],
   "source": [
    "url2 = \"https://screening.mentalhealthamerica.net/sites/default/files/2018-03/7.png\"\n",
    "\n",
    "Image(url= url2, height = 200, width = 400)"
   ]
  },
  {
   "cell_type": "markdown",
   "metadata": {},
   "source": [
    "The World Health Organisation (WHO) estimates that each year approximately one million people die from suicide, which represents a global mortality rate of 16 people per 100,000 or one death every 40 seconds. It is predicted that by 2020 the rate of death will increase to one every 20 seconds. We can all help prevent suicide. The National Suicide Prevention Lifeline is a national network of local crisis centers that provides free and confidential emotional support to people in suicidal crisis or emotional distress 24 hours a day, 7 days a week, in addition to spreading knowledge of suicide awareness nationwide and the various ways to seek help."
   ]
  },
  {
   "cell_type": "code",
   "execution_count": 18,
   "metadata": {},
   "outputs": [
    {
     "name": "stdout",
     "output_type": "stream",
     "text": [
      "176 tokens\n"
     ]
    }
   ],
   "source": [
    "print(\"%s tokens\" %bank_account)"
   ]
  },
  {
   "cell_type": "markdown",
   "metadata": {},
   "source": [
    "If you wish to donate tokens to the National Suicide Prevention Lifeline you may now do so"
   ]
  },
  {
   "cell_type": "code",
   "execution_count": 19,
   "metadata": {},
   "outputs": [
    {
     "name": "stdout",
     "output_type": "stream",
     "text": [
      "12\n",
      "164 tokens\n",
      "If you wish to spend tokens on virtual raffles for a chance to win a $20 gift card you may now do so\n",
      "12\n"
     ]
    }
   ],
   "source": [
    "donation_2 = input()\n",
    "while (not donation_2.isnumeric() or int(donation_2) > bank_account or int(donation_2) < 0):\n",
    "    if donation_2 == \"\":\n",
    "        print(\"Are you sure you do not want to donate any tokens this year? If so, please enter 0. Otherwise, enter the amount you would like to donate.\")\n",
    "    elif not donation_2.isnumeric(): print(\"You must enter whole numeric values (ex: 10,20,30,40)\")\n",
    "    elif int(donation_2) > bank_account: print(\"You do not have enough total tokens to donate/spend the amount you selected. Please re-enter a different donation amount.\")\n",
    "    donation_2 = input()\n",
    "bank_account -= int(donation_2)\n",
    "print(\"%s tokens\" %bank_account)\n",
    "print(\"If you wish to spend tokens on virtual raffles for a chance to win a $20 gift card you may now do so\")\n",
    "      \n",
    "\n",
    "gift_card_2 = input()\n",
    "while (not gift_card_2.isnumeric() or int(gift_card_2) > bank_account or int(gift_card_2) < 0):\n",
    "    if gift_card_2 == \"\":\n",
    "        print(\"Are you sure you do not want to spend any tokens this year? If so, please enter 0. Otherwise, enter the amount you would like to spend.\")\n",
    "    elif not gift_card_2.isnumeric(): print(\"You must enter whole numeric values (ex: 10,20,30,40)\")\n",
    "    elif int(gift_card_2) > bank_account: print(\"You do not have enough total tokens to spend the amount you selected. Please re-enter a different spending amount.\")\n",
    "    gift_card_2 = input()\n",
    "bank_account -= int(gift_card_2)  \n",
    "bank_account += 100"
   ]
  },
  {
   "cell_type": "code",
   "execution_count": 20,
   "metadata": {},
   "outputs": [
    {
     "name": "stdout",
     "output_type": "stream",
     "text": [
      "\n",
      "Your remaining tokens have been saved for year three.\n",
      "\n",
      "You have just completed year three. You have gained 100 tokens in addition to your saved tokens from years 1 and 2.\n",
      "You have 252 tokens to spend, donate, or save.\n",
      "\n",
      "Enter anything to continue\n",
      "\n",
      "12\n"
     ]
    }
   ],
   "source": [
    "print(\"\"\"\n",
    "Your remaining tokens have been saved for year three.\n",
    "\n",
    "You have just completed year three. You have gained 100 tokens in addition to your saved tokens from years 1 and 2.\n",
    "You have %s tokens to spend, donate, or save.\n",
    "\n",
    "Enter anything to continue\n",
    "\"\"\" % (bank_account))\n",
    "text = input()"
   ]
  },
  {
   "cell_type": "markdown",
   "metadata": {},
   "source": [
    "<br>\n",
    "<br>\n",
    "<br>\n",
    "<br>\n",
    "<br>\n",
    "<br>\n",
    "<br>\n",
    "<br>\n",
    "<br>\n",
    "<br>\n",
    "<br>\n",
    "<br>\n",
    "<br>\n",
    "<br>\n",
    "<br>\n",
    "<br>\n",
    "<br>\n",
    "<br>\n",
    "<br>\n",
    "<br>\n",
    "<br>\n",
    "<br>\n",
    "<br>\n",
    "<br>\n",
    "<br>\n",
    "<br>\n",
    "<br>\n",
    "<br>\n",
    "<br>"
   ]
  },
  {
   "cell_type": "code",
   "execution_count": 21,
   "metadata": {},
   "outputs": [
    {
     "data": {
      "text/html": [
       "<img src=\"http://www.hatchwise.com/entry/L988916-20171230222559.png\" width=\"400\" height=\"200\"/>"
      ],
      "text/plain": [
       "<IPython.core.display.Image object>"
      ]
     },
     "execution_count": 21,
     "metadata": {},
     "output_type": "execute_result"
    }
   ],
   "source": [
    "url3 = \"http://www.hatchwise.com/entry/L988916-20171230222559.png\"\n",
    "\n",
    "Image(url= url3, height = 200, width = 400)"
   ]
  },
  {
   "cell_type": "markdown",
   "metadata": {},
   "source": [
    "In 2017 the rate of alcohol-impaired driving fatalities per 100,000 population was 3.4. According to the National Highway Traffic Safety Administration these alcohol-impaired driving fatalities accounted for 29% of the total vehicle traffic fatalities in 2017, resulting in 37,133 deaths including an estimated 10,874 people who were killed in drunk driving crashes involving a driver with an illegal BAC (.08 or greater). All drunk driving accidents are preventable. 37,133 lives could’ve been saved if drivers only drove sober. The Drunk Driving Prevention Program works to spread awareness of the dangers of drunk driving and will drive any intoxicated person and their car home if they simply call."
   ]
  },
  {
   "cell_type": "code",
   "execution_count": 22,
   "metadata": {},
   "outputs": [
    {
     "name": "stdout",
     "output_type": "stream",
     "text": [
      "252 tokens\n"
     ]
    }
   ],
   "source": [
    "print(\"%s tokens\" %bank_account)"
   ]
  },
  {
   "cell_type": "markdown",
   "metadata": {},
   "source": [
    "If you wish to donate tokens to the Drunk Driving Prevention Program you may now do so"
   ]
  },
  {
   "cell_type": "code",
   "execution_count": 23,
   "metadata": {},
   "outputs": [
    {
     "name": "stdout",
     "output_type": "stream",
     "text": [
      "12\n",
      "240 tokens\n",
      "If you wish to spend tokens on virtual raffles for a chance to win a $20 gift card you may now do so\n"
     ]
    }
   ],
   "source": [
    "donation_3 = input()\n",
    "while (not donation_3.isnumeric() or int(donation_3) > bank_account or int(donation_3) < 0):\n",
    "    if donation_3 == \"\":\n",
    "        print(\"Are you sure you do not want to donate any tokens this year? If so, please enter 0. Otherwise, enter the amount you would like to donate.\")\n",
    "    elif not donation_3.isnumeric(): print(\"You must enter whole numeric values (ex: 10,20,30,40)\")\n",
    "    elif int(donation_3) > bank_account: print(\"You do not have enough total tokens to donate/spend the amount you selected. Please re-enter a different donation amount.\")\n",
    "    donation_3 = input()\n",
    "bank_account -= int(donation_3)\n",
    "print(\"%s tokens\" %bank_account)\n",
    "print(\"If you wish to spend tokens on virtual raffles for a chance to win a $20 gift card you may now do so\")"
   ]
  },
  {
   "cell_type": "code",
   "execution_count": 24,
   "metadata": {},
   "outputs": [
    {
     "name": "stdout",
     "output_type": "stream",
     "text": [
      "12\n"
     ]
    }
   ],
   "source": [
    "gift_card_3 = input()\n",
    "while (not gift_card_3.isnumeric() or int(gift_card_3) > bank_account or int(gift_card_3) < 0):\n",
    "    if gift_card_3 == \"\":\n",
    "        print(\"Are you sure you do not want to spend any tokens this year? If so, please enter 0. Otherwise, enter the amount you would like to spend.\")\n",
    "    elif not gift_card_3.isnumeric(): print(\"You must enter whole numeric values (ex: 10,20,30,40)\")\n",
    "    elif int(gift_card_3) > bank_account: print(\"You do not have enough total tokens to spend the amount you selected. Please re-enter a different spending amount.\")\n",
    "    gift_card_3 = input()\n",
    "bank_account -= int(gift_card_3)  \n",
    "bank_account += 100"
   ]
  },
  {
   "cell_type": "code",
   "execution_count": 25,
   "metadata": {},
   "outputs": [
    {
     "name": "stdout",
     "output_type": "stream",
     "text": [
      "\n",
      "Your remaining tokens have been saved for year four.\n",
      "\n",
      "You have just completed year four. You have gained 100 tokens in addition to your saved tokens from years 1,2 and 3.\n",
      "You have 328 tokens to spend, donate, or save.\n",
      "\n",
      "Enter anything to continue\n",
      "\n",
      "12\n"
     ]
    }
   ],
   "source": [
    "print(\"\"\"\n",
    "Your remaining tokens have been saved for year four.\n",
    "\n",
    "You have just completed year four. You have gained 100 tokens in addition to your saved tokens from years 1,2 and 3.\n",
    "You have %s tokens to spend, donate, or save.\n",
    "\n",
    "Enter anything to continue\n",
    "\"\"\" % (bank_account))\n",
    "text = input()"
   ]
  },
  {
   "cell_type": "markdown",
   "metadata": {},
   "source": [
    "<br>\n",
    "<br>\n",
    "<br>\n",
    "<br>\n",
    "<br>\n",
    "<br>\n",
    "<br>\n",
    "<br>\n",
    "<br>\n",
    "<br>\n",
    "<br>\n",
    "<br>\n",
    "<br>\n",
    "<br>\n",
    "<br>\n",
    "<br>\n",
    "<br>"
   ]
  },
  {
   "cell_type": "code",
   "execution_count": 26,
   "metadata": {
    "scrolled": false
   },
   "outputs": [
    {
     "data": {
      "text/html": [
       "<img src=\"https://ih1.redbubble.net/image.44506487.6984/ap,550x550,12x12,1,transparent,t.u4.png\" width=\"400\" height=\"200\"/>"
      ],
      "text/plain": [
       "<IPython.core.display.Image object>"
      ]
     },
     "execution_count": 26,
     "metadata": {},
     "output_type": "execute_result"
    }
   ],
   "source": [
    "url4 = \"https://ih1.redbubble.net/image.44506487.6984/ap,550x550,12x12,1,transparent,t.u4.png\"\n",
    "\n",
    "Image(url= url4, height = 200, width = 400)"
   ]
  },
  {
   "cell_type": "markdown",
   "metadata": {},
   "source": [
    "The Pan American Health Organization (PAHO) reported that in 2018 their were 6,629 measles cases in the Americas, resulting in 72 deaths. The World Health Organization (WHO) reports that vaccines for Pneumococcal diseases including meningitis and febrile bacteraemia have a global coverage rate estimated at 44%. Gavi the Vaccine Alliance reports that 30 million children internationally are not fully immunised. Many of them will live sadly die younger than they had to because of this. Moms for Vaccines works to internationally reduce the amount of non-immunized children to zero, spread vaccination awareness, and debunk myths about the dangers of vaccination. \n"
   ]
  },
  {
   "cell_type": "code",
   "execution_count": 27,
   "metadata": {},
   "outputs": [
    {
     "name": "stdout",
     "output_type": "stream",
     "text": [
      "328 tokens\n"
     ]
    }
   ],
   "source": [
    "print(\"%s tokens\" %bank_account)"
   ]
  },
  {
   "cell_type": "markdown",
   "metadata": {},
   "source": [
    "If you wish to donate tokens to Moms for Vaccines you may now do so"
   ]
  },
  {
   "cell_type": "code",
   "execution_count": 28,
   "metadata": {},
   "outputs": [
    {
     "name": "stdout",
     "output_type": "stream",
     "text": [
      "12\n",
      "316 tokens\n",
      "If you wish to spend tokens on virtual raffles for a chance to win a $20 gift card you may now do so\n",
      "12\n"
     ]
    }
   ],
   "source": [
    "donation_4 = input()\n",
    "while (not donation_4.isnumeric() or int(donation_4) > bank_account or int(donation_4) < 0):\n",
    "    if donation_4 == \"\":\n",
    "        print(\"Are you sure you do not want to donate any tokens this year? If so, please enter 0. Otherwise, enter the amount you would like to donate.\")\n",
    "    elif not donation_4.isnumeric(): print(\"You must enter whole numeric values (ex: 10,20,30,40)\")\n",
    "    elif int(donation_4) > bank_account: print(\"You do not have enough total tokens to donate/spend the amount you selected. Please re-enter a different donation amount.\")\n",
    "    donation_4 = input()\n",
    "bank_account -= int(donation_4)\n",
    "print(\"%s tokens\" %bank_account)\n",
    "print(\"If you wish to spend tokens on virtual raffles for a chance to win a $20 gift card you may now do so\")\n",
    "      \n",
    "gift_card_4 = input()\n",
    "while (not gift_card_4.isnumeric() or int(gift_card_4) > bank_account or int(gift_card_4) < 0):\n",
    "    if gift_card_4 == \"\":\n",
    "        print(\"Are you sure you do not want to spend any tokens this year? If so, please enter 0. Otherwise, enter the amount you would like to spend.\")\n",
    "    elif not gift_card_4.isnumeric(): print(\"You must enter whole numeric values (ex: 10,20,30,40)\")\n",
    "    elif int(gift_card_4) > bank_account: print(\"You do not have enough total tokens to spend the amount you selected. Please re-enter a different spending amount.\")\n",
    "    gift_card_4 = input()\n",
    "bank_account -= int(gift_card_4)  \n",
    "bank_account += 100"
   ]
  },
  {
   "cell_type": "code",
   "execution_count": 29,
   "metadata": {},
   "outputs": [
    {
     "name": "stdout",
     "output_type": "stream",
     "text": [
      "\n",
      "Your remaining tokens have been saved for year five.\n",
      "\n",
      "You have just completed year five.You have gained 100 tokens in addition to your saved tokens from years 1,2,3, and 4.\n",
      "You have 404 tokens to spend or donate. You cannot save any tokens for after this year.\n",
      "\n",
      "\n",
      "\n"
     ]
    }
   ],
   "source": [
    "print(\"\"\"\n",
    "Your remaining tokens have been saved for year five.\n",
    "\n",
    "You have just completed year five.You have gained 100 tokens in addition to your saved tokens from years 1,2,3, and 4.\n",
    "You have %s tokens to spend or donate. You cannot save any tokens for after this year.\n",
    "\n",
    "\n",
    "\"\"\" % (bank_account))"
   ]
  },
  {
   "cell_type": "markdown",
   "metadata": {},
   "source": [
    "<br>\n",
    "<br>\n",
    "<br>"
   ]
  },
  {
   "cell_type": "code",
   "execution_count": 30,
   "metadata": {},
   "outputs": [
    {
     "data": {
      "text/html": [
       "<img src=\"https://images-na.ssl-images-amazon.com/images/I/41UlLQ1pZ3L.jpg\" width=\"400\" height=\"200\"/>"
      ],
      "text/plain": [
       "<IPython.core.display.Image object>"
      ]
     },
     "execution_count": 30,
     "metadata": {},
     "output_type": "execute_result"
    }
   ],
   "source": [
    "url5 = \"https://images-na.ssl-images-amazon.com/images/I/41UlLQ1pZ3L.jpg\"\n",
    "\n",
    "Image(url= url5, height = 200, width = 400)"
   ]
  },
  {
   "cell_type": "markdown",
   "metadata": {},
   "source": [
    "Vox reports than in 2018 876,000 acres of trees were burned down in wildfires in California. According to USA today in Butte County California a campfire turned wildfire killed 85 people, with 11 still missing. Nearly 14,000 homes were destroyed. 1000s of animals die each year from wildfires. The Smokey Bear foundation states that “Care Will Prevent 9 out of 10 Forest Fires”. The Smokey Bear foundation works to prevent wildfires nationwide and spread fire safety awareness, protecting nature, people, and animals. \n",
    "\n",
    "\n",
    "You must use all your remaining tokens. "
   ]
  },
  {
   "cell_type": "code",
   "execution_count": 31,
   "metadata": {},
   "outputs": [
    {
     "name": "stdout",
     "output_type": "stream",
     "text": [
      "404 tokens\n"
     ]
    }
   ],
   "source": [
    "print(\"%s tokens\" %bank_account)"
   ]
  },
  {
   "cell_type": "markdown",
   "metadata": {},
   "source": [
    "If you wish to donate tokens to the Smokey Bear Foundation you may now do so"
   ]
  },
  {
   "cell_type": "code",
   "execution_count": null,
   "metadata": {},
   "outputs": [],
   "source": [
    "%%javascript\n",
    "Jupyter.keyboard_manager.disable()"
   ]
  },
  {
   "cell_type": "code",
   "execution_count": 32,
   "metadata": {},
   "outputs": [
    {
     "name": "stdout",
     "output_type": "stream",
     "text": [
      "12\n",
      "All remaining tokens (392) will be spent on the chance to win a $20 gift card.\n",
      "\n",
      "\n",
      "Thank you for completing the token simulation! I will contact you if you win a gift card. Good luck! Your results are shown below. Please copy them into survey monkey and answer a few quick exit questions.\n",
      "\n",
      "\n",
      "Tokens donated to the Hurricane Damage Prevention Center in year 1: 12\n",
      "\n",
      "Tokens spent on the chance to win the $20 gift card in year 1: 12\n",
      "\n",
      "Tokens donated to National Suicide Prevention Lifeline in year 2: 12\n",
      "\n",
      "Tokens spent on the chance to win the $20 gift card in year 2: 12\n",
      "\n",
      "Tokens donated to the Drunk Driving Prevention Program in year 3: 12\n",
      "\n",
      "Tokens spent on the chance to win the $20 gift card in year 3: 12\n",
      "\n",
      "Tokens donated to Moms for Vaccines in year 4: 12\n",
      "\n",
      "Tokens spent on the chance to win the $20 gift card in year 4: 12\n",
      "\n",
      "Tokens donated to Smokey Bear Foundation in year 5: 12\n",
      " \n",
      "Tokens spent on the chance to win the $20 gift card in year 5: 392\n",
      "\n",
      "\n",
      "\n",
      "\n"
     ]
    }
   ],
   "source": [
    "donation_5 = input()\n",
    "while (not donation_5.isnumeric() or int(donation_5) > bank_account or int(donation_5) < 0):\n",
    "    if donation_5 == \"\":\n",
    "        print(\"Are you sure you do not want to donate any tokens this year? If so, please enter 0. Otherwise, enter the amount you would like to donate.\")\n",
    "    elif not donation_5.isnumeric(): print(\"You must enter whole numeric values (ex: 10,20,30,40)\")\n",
    "    elif int(donation_5) > bank_account: print(\"You do not have enough total tokens to donate/spend the amount you selected. Please re-enter a different donation amount.\")\n",
    "    donation_5 = input()\n",
    "bank_account -= int(donation_5)\n",
    "gift_card_5 = bank_account\n",
    "print(\"All remaining tokens (%s) will be spent on the chance to win a $20 gift card.\" % (gift_card_5))\n",
    "\n",
    "print(\"\"\"\n",
    "\n",
    "Thank you for completing the token simulation! I will contact you if you win a gift card. Good luck! Your results are shown below. Please copy them into survey monkey and answer a few quick exit questions.\n",
    "\n",
    "\n",
    "Tokens donated to the Hurricane Damage Prevention Center in year 1: %s\n",
    "\n",
    "Tokens spent on the chance to win the $20 gift card in year 1: %s\n",
    "\n",
    "Tokens donated to National Suicide Prevention Lifeline in year 2: %s\n",
    "\n",
    "Tokens spent on the chance to win the $20 gift card in year 2: %s\n",
    "\n",
    "Tokens donated to the Drunk Driving Prevention Program in year 3: %s\n",
    "\n",
    "Tokens spent on the chance to win the $20 gift card in year 3: %s\n",
    "\n",
    "Tokens donated to Moms for Vaccines in year 4: %s\n",
    "\n",
    "Tokens spent on the chance to win the $20 gift card in year 4: %s\n",
    "\n",
    "Tokens donated to Smokey Bear Foundation in year 5: %s\n",
    " \n",
    "Tokens spent on the chance to win the $20 gift card in year 5: %s\n",
    "\n",
    "\n",
    "\n",
    "\"\"\" % (donation_1, gift_card_1, donation_2, gift_card_2,donation_3, \n",
    "       gift_card_3,donation_4, gift_card_4,donation_5, gift_card_5))\n",
    "      \n",
    "    "
   ]
  },
  {
   "cell_type": "markdown",
   "metadata": {},
   "source": [
    "# "
   ]
  }
 ],
 "metadata": {
  "anaconda-cloud": {},
  "kernelspec": {
   "display_name": "Python 3",
   "language": "python",
   "name": "python3"
  },
  "language_info": {
   "codemirror_mode": {
    "name": "ipython",
    "version": 3
   },
   "file_extension": ".py",
   "mimetype": "text/x-python",
   "name": "python",
   "nbconvert_exporter": "python",
   "pygments_lexer": "ipython3",
   "version": "3.6.7"
  }
 },
 "nbformat": 4,
 "nbformat_minor": 2
}
